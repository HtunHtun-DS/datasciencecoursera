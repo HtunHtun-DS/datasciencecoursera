{
    "cells": [
        {
            "cell_type": "markdown",
            "metadata": {},
            "source": "# Description\nThis notebook analyzes and visualizes data"
        },
        {
            "cell_type": "code",
            "execution_count": 1,
            "metadata": {},
            "outputs": [
                {
                    "data": {
                        "text/html": "<div>\n<style scoped>\n    .dataframe tbody tr th:only-of-type {\n        vertical-align: middle;\n    }\n\n    .dataframe tbody tr th {\n        vertical-align: top;\n    }\n\n    .dataframe thead th {\n        text-align: right;\n    }\n</style>\n<table border=\"1\" class=\"dataframe\">\n  <thead>\n    <tr style=\"text-align: right;\">\n      <th></th>\n      <th>Objectidfieldname</th>\n      <th>Uniqueidfield Name</th>\n      <th>Uniqueidfield Issystemmaintained</th>\n      <th>Globalidfieldname</th>\n      <th>Servergens Minservergen</th>\n      <th>Servergens Servergen</th>\n      <th>Geometrytype</th>\n      <th>Spatialreference Wkid</th>\n      <th>Spatialreference Latestwkid</th>\n      <th>Fields Name</th>\n      <th>...</th>\n      <th>Features Attributes Death</th>\n      <th>Features Attributes Recovered</th>\n      <th>Features Attributes Latitude</th>\n      <th>Features Attributes Longitude</th>\n      <th>Features Attributes Fid</th>\n      <th>Features Attributes Globalid</th>\n      <th>Features Attributes Creationdate</th>\n      <th>Features Attributes Creator</th>\n      <th>Features Attributes Editdate</th>\n      <th>Features Attributes Editor</th>\n    </tr>\n  </thead>\n  <tbody>\n    <tr>\n      <th>0</th>\n      <td>FID</td>\n      <td>FID</td>\n      <td>True</td>\n      <td>GlobalID</td>\n      <td>212003</td>\n      <td>215947</td>\n      <td>esriGeometryPoint</td>\n      <td>102100</td>\n      <td>3857</td>\n      <td>No</td>\n      <td>...</td>\n      <td>1</td>\n      <td>14</td>\n      <td>20.137270</td>\n      <td>92.885510</td>\n      <td>64</td>\n      <td>6f39f39a-2ef5-4eb9-9448-08b6aa144835</td>\n      <td>1598151582284</td>\n      <td>NanThidaPhyo1</td>\n      <td>1600776402113</td>\n      <td>NanThidaPhyo1</td>\n    </tr>\n    <tr>\n      <th>1</th>\n      <td>FID</td>\n      <td>FID</td>\n      <td>True</td>\n      <td>GlobalID</td>\n      <td>212003</td>\n      <td>215947</td>\n      <td>esriGeometryPoint</td>\n      <td>102100</td>\n      <td>3857</td>\n      <td>SR</td>\n      <td>...</td>\n      <td>2</td>\n      <td>3</td>\n      <td>16.831011</td>\n      <td>96.193230</td>\n      <td>32</td>\n      <td>669beab1-d1db-45d5-b240-ff7f8dc18f11</td>\n      <td>1598151582284</td>\n      <td>NanThidaPhyo1</td>\n      <td>1600777000145</td>\n      <td>NanThidaPhyo1</td>\n    </tr>\n    <tr>\n      <th>2</th>\n      <td>FID</td>\n      <td>FID</td>\n      <td>True</td>\n      <td>GlobalID</td>\n      <td>212003</td>\n      <td>215947</td>\n      <td>esriGeometryPoint</td>\n      <td>102100</td>\n      <td>3857</td>\n      <td>Township</td>\n      <td>...</td>\n      <td>2</td>\n      <td>506</td>\n      <td>20.482154</td>\n      <td>92.756057</td>\n      <td>84</td>\n      <td>3b574ed8-f138-4388-ab83-fccd89ec9b9e</td>\n      <td>1598627905026</td>\n      <td>NanThidaPhyo1</td>\n      <td>1600782210947</td>\n      <td>NanThidaPhyo1</td>\n    </tr>\n    <tr>\n      <th>3</th>\n      <td>FID</td>\n      <td>FID</td>\n      <td>True</td>\n      <td>GlobalID</td>\n      <td>212003</td>\n      <td>215947</td>\n      <td>esriGeometryPoint</td>\n      <td>102100</td>\n      <td>3857</td>\n      <td>Case</td>\n      <td>...</td>\n      <td>2</td>\n      <td>52</td>\n      <td>16.901771</td>\n      <td>96.095959</td>\n      <td>4</td>\n      <td>5c64e52a-96da-4b4a-bac3-43e6fcfaa188</td>\n      <td>1598151582284</td>\n      <td>NanThidaPhyo1</td>\n      <td>1600776745141</td>\n      <td>NanThidaPhyo1</td>\n    </tr>\n    <tr>\n      <th>4</th>\n      <td>FID</td>\n      <td>FID</td>\n      <td>True</td>\n      <td>GlobalID</td>\n      <td>212003</td>\n      <td>215947</td>\n      <td>esriGeometryPoint</td>\n      <td>102100</td>\n      <td>3857</td>\n      <td>Tested</td>\n      <td>...</td>\n      <td>2</td>\n      <td>13</td>\n      <td>16.846249</td>\n      <td>96.179859</td>\n      <td>13</td>\n      <td>4a50d301-8fc7-4751-9f5c-b09050b47caa</td>\n      <td>1598151582284</td>\n      <td>NanThidaPhyo1</td>\n      <td>1600776836769</td>\n      <td>NanThidaPhyo1</td>\n    </tr>\n  </tbody>\n</table>\n<p>5 rows \u00d7 38 columns</p>\n</div>",
                        "text/plain": "  Objectidfieldname Uniqueidfield Name  Uniqueidfield Issystemmaintained  \\\n0               FID                FID                              True   \n1               FID                FID                              True   \n2               FID                FID                              True   \n3               FID                FID                              True   \n4               FID                FID                              True   \n\n  Globalidfieldname  Servergens Minservergen  Servergens Servergen  \\\n0          GlobalID                   212003                215947   \n1          GlobalID                   212003                215947   \n2          GlobalID                   212003                215947   \n3          GlobalID                   212003                215947   \n4          GlobalID                   212003                215947   \n\n        Geometrytype  Spatialreference Wkid  Spatialreference Latestwkid  \\\n0  esriGeometryPoint                 102100                         3857   \n1  esriGeometryPoint                 102100                         3857   \n2  esriGeometryPoint                 102100                         3857   \n3  esriGeometryPoint                 102100                         3857   \n4  esriGeometryPoint                 102100                         3857   \n\n  Fields Name  ... Features Attributes Death Features Attributes Recovered  \\\n0          No  ...                         1                            14   \n1          SR  ...                         2                             3   \n2    Township  ...                         2                           506   \n3        Case  ...                         2                            52   \n4      Tested  ...                         2                            13   \n\n  Features Attributes Latitude  Features Attributes Longitude  \\\n0                    20.137270                      92.885510   \n1                    16.831011                      96.193230   \n2                    20.482154                      92.756057   \n3                    16.901771                      96.095959   \n4                    16.846249                      96.179859   \n\n   Features Attributes Fid          Features Attributes Globalid  \\\n0                       64  6f39f39a-2ef5-4eb9-9448-08b6aa144835   \n1                       32  669beab1-d1db-45d5-b240-ff7f8dc18f11   \n2                       84  3b574ed8-f138-4388-ab83-fccd89ec9b9e   \n3                        4  5c64e52a-96da-4b4a-bac3-43e6fcfaa188   \n4                       13  4a50d301-8fc7-4751-9f5c-b09050b47caa   \n\n   Features Attributes Creationdate  Features Attributes Creator  \\\n0                     1598151582284                NanThidaPhyo1   \n1                     1598151582284                NanThidaPhyo1   \n2                     1598627905026                NanThidaPhyo1   \n3                     1598151582284                NanThidaPhyo1   \n4                     1598151582284                NanThidaPhyo1   \n\n  Features Attributes Editdate Features Attributes Editor  \n0                1600776402113              NanThidaPhyo1  \n1                1600777000145              NanThidaPhyo1  \n2                1600782210947              NanThidaPhyo1  \n3                1600776745141              NanThidaPhyo1  \n4                1600776836769              NanThidaPhyo1  \n\n[5 rows x 38 columns]"
                    },
                    "execution_count": 1,
                    "metadata": {},
                    "output_type": "execute_result"
                }
            ],
            "source": "# The code was removed by Watson Studio for sharing."
        }
    ],
    "metadata": {
        "kernelspec": {
            "display_name": "Python 3.7",
            "language": "python",
            "name": "python3"
        },
        "language_info": {
            "codemirror_mode": {
                "name": "ipython",
                "version": 3
            },
            "file_extension": ".py",
            "mimetype": "text/x-python",
            "name": "python",
            "nbconvert_exporter": "python",
            "pygments_lexer": "ipython3",
            "version": "3.7.10"
        }
    },
    "nbformat": 4,
    "nbformat_minor": 1
}